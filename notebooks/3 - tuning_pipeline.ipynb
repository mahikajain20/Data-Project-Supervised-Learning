{
 "cells": [
  {
   "cell_type": "markdown",
   "metadata": {},
   "source": [
    "Now that we know which models are performing better, it's time to perform cross validation and tune hyperparameters.\n",
    "- Do a google search for hyperparameter ranges for each type of model.\n",
    "\n",
    "GridSearch/RandomSearch are a great methods for checking off both of these tasks.\n",
    "- BUT we have a problem - if we calculated a numerical value to encode city (such as the mean of sale prices in that city) on the training data, we can't cross validate \n",
    "- The rows in each validation fold were part of the original calculation of the mean for that city - that means we're leaking information!\n",
    "- While sklearn's built in functions are extremely useful, sometimes it is necessary to do things ourselves\n",
    "\n",
    "You need to create two functions to replicate what Gridsearch does under the hood\n",
    "\n",
    "**`custom_cross_validation()`**\n",
    "- Should take the training data, and divide it into multiple train/validation splits. \n",
    "- Look into `sklearn.model_selection.KFold` to accomplish this - the [documentation](https://scikit-learn.org/stable/modules/generated/sklearn.model_selection.KFold.html) shows how to split a dataframe and loop through the indexes of your split data. \n",
    "- Within your function, you should compute the city means on the training folds just like you did in Notebook 1 - you may have to re-join the city column to do this - and then join these values to the validation fold\n",
    "\n",
    "**`hyperparameter_search()`**\n",
    "- Should take the validation and training splits from your previous function, along with your dictionary of hyperparameter values\n",
    "- For each set of hyperparameter values, fit your chosen model on each set of training folds, and take the average of your chosen scoring metric. [itertools.product()](https://docs.python.org/3/library/itertools.html) will be helpful for looping through all combinations of hyperparameter values\n",
    "- Your function should output the hyperparameter values corresponding the highest average score across all folds. Alternatively, it could also output a model object fit on the full training dataset with these parameters.\n",
    "\n",
    "Docstrings have been provided below to get you started. Once you're done developing your functions, you should move them to `functions_variables.py` to keep your notebook clean \n",
    "\n",
    "Bear in mind that these instructions are just one way to tackle this problem - the inputs and output formats don't need to be exactly as specified here."
   ]
  },
  {
   "cell_type": "code",
   "execution_count": 93,
   "metadata": {},
   "outputs": [],
   "source": [
    "#Imports \n",
    "import numpy as np\n",
    "import pandas as pd\n",
    "from sklearn.model_selection import KFold\n",
    "from sklearn.model_selection import cross_val_score\n",
    "from sklearn.model_selection import train_test_split\n",
    "from sklearn.model_selection import GridSearchCV\n",
    "from sklearn.model_selection import ParameterGrid\n",
    "\n",
    "from sklearn.preprocessing import StandardScaler\n",
    "from sklearn.preprocessing import OneHotEncoder\n",
    "from category_encoders import TargetEncoder\n",
    "from sklearn.metrics import mean_squared_error\n",
    "from sklearn.metrics import mean_absolute_error\n",
    "from sklearn.metrics import r2_score\n",
    "from sklearn.metrics import accuracy_score\n",
    "\n",
    "from sklearn.pipeline import Pipeline\n",
    "from sklearn.compose import ColumnTransformer\n",
    "from sklearn.impute import SimpleImputer\n",
    "from sklearn.feature_selection import SelectFromModel\n",
    "\n",
    "from sklearn.tree import DecisionTreeRegressor\n",
    "from sklearn.ensemble import RandomForestRegressor\n",
    "from xgboost import XGBRegressor\n",
    "import xgboost as xgb\n",
    "\n",
    "from functions_variables import *\n",
    "\n",
    "import joblib\n",
    "import matplotlib.pyplot as plt\n",
    "import seaborn as sns\n",
    "\n",
    "import warnings\n",
    "warnings.filterwarnings('ignore')"
   ]
  },
  {
   "cell_type": "code",
   "execution_count": 94,
   "metadata": {},
   "outputs": [],
   "source": [
    "%load_ext autoreload\n",
    "%autoreload 2"
   ]
  },
  {
   "cell_type": "markdown",
   "metadata": {},
   "source": [
    "The cross validation and hyperparameter tuning functions are in the 'functions_variables.py' notebook. RMSE is being used as the score during hyperparameter tuning. "
   ]
  },
  {
   "cell_type": "markdown",
   "metadata": {},
   "source": [
    "### Encoded Data steps (not used right now)"
   ]
  },
  {
   "cell_type": "code",
   "execution_count": 16,
   "metadata": {},
   "outputs": [],
   "source": [
    "# X = pd.read_csv('../data/dataframes/X_train_encoded.csv')\n",
    "# y = pd.read_csv('../data/dataframes/Y_train_encoded.csv')"
   ]
  },
  {
   "cell_type": "code",
   "execution_count": 17,
   "metadata": {},
   "outputs": [],
   "source": [
    "# X.drop(columns=['permalink', 'listing', 'primary_photo', 'state', 'postal_code', 'sold_date'], inplace=True)"
   ]
  },
  {
   "cell_type": "code",
   "execution_count": 18,
   "metadata": {},
   "outputs": [],
   "source": [
    "# X['city'] = X['city'].astype('category')"
   ]
  },
  {
   "cell_type": "code",
   "execution_count": 22,
   "metadata": {},
   "outputs": [],
   "source": [
    "# X.to_csv('../data/dataframes/X_encoded_final.csv', index=False)"
   ]
  },
  {
   "cell_type": "code",
   "execution_count": 20,
   "metadata": {},
   "outputs": [],
   "source": [
    "# #Split\n",
    "# X_train, X_val, y_train, y_val = train_test_split(X, y, test_size=0.2, random_state=42)\n"
   ]
  },
  {
   "cell_type": "code",
   "execution_count": 21,
   "metadata": {},
   "outputs": [
    {
     "name": "stdout",
     "output_type": "stream",
     "text": [
      "X_train shape: (2563, 24)\n",
      "Y_val shape: (641, 1)\n"
     ]
    }
   ],
   "source": [
    "# print('X_train shape:', X_train.shape)\n",
    "# print('Y_val shape:', y_val.shape)"
   ]
  },
  {
   "cell_type": "code",
   "execution_count": 23,
   "metadata": {},
   "outputs": [],
   "source": [
    "# X_train.to_csv('../data/dataframes/X_train_encoded_final.csv', index=False)\n",
    "# X_val.to_csv('../data/dataframes/X_val_encoded_final.csv', index=False)\n",
    "# y_train.to_csv('../data/dataframes/y_train_encoded_final.csv', index=False)\n",
    "# y_val.to_csv('../data/dataframes/y_val_encoded_final.csv', index=False)"
   ]
  },
  {
   "cell_type": "code",
   "execution_count": null,
   "metadata": {},
   "outputs": [],
   "source": [
    "# #training data \n",
    "# training_data = pd.concat([X_train, y_train], axis=1)\n",
    "# #Cross validation \n",
    "# training_folds, validation_folds = custom_cross_validation(training_data, n_splits=5)"
   ]
  },
  {
   "cell_type": "markdown",
   "metadata": {},
   "source": [
    "The part above is just to show the previous work done with the encoded data. As the activity was later marked stretch, we decided to use the non-encoded data (shown below)"
   ]
  },
  {
   "cell_type": "markdown",
   "metadata": {},
   "source": [
    "### Steps for Hyperparameter Tuning"
   ]
  },
  {
   "cell_type": "code",
   "execution_count": 90,
   "metadata": {},
   "outputs": [],
   "source": [
    "#no city data \n",
    "X_train_no_city = pd.read_csv('../data/dataframes/X_train_final2.csv')\n",
    "X_val_no_city = pd.read_csv('../data/dataframes/X_val_final.csv')\n",
    "Y_train_no_city = pd.read_csv('../data/dataframes/Y_train_final.csv')\n",
    "Y_val_no_city = pd.read_csv('../data/dataframes/Y_val_final.csv')"
   ]
  },
  {
   "cell_type": "code",
   "execution_count": 91,
   "metadata": {},
   "outputs": [],
   "source": [
    "#training data \n",
    "training_data_no_city = pd.concat([X_train_no_city, Y_train_no_city], axis=1)\n",
    "#Cross validation \n",
    "training_folds_no_city, validation_folds_no_city = custom_cross_validation_no_city(training_data_no_city, n_splits=5)"
   ]
  },
  {
   "cell_type": "code",
   "execution_count": 27,
   "metadata": {},
   "outputs": [
    {
     "name": "stdout",
     "output_type": "stream",
     "text": [
      "Best hyperparameters for Decision Tree: {'max_depth': 20, 'max_features': 'log2', 'min_samples_leaf': 1, 'min_samples_split': 2}\n",
      "Best score for Decision Tree: 20368179294.73431\n"
     ]
    }
   ],
   "source": [
    "# param_grid = {\n",
    "#     'max_depth': [None, 10, 20, 30],\n",
    "#     'min_samples_split': [2, 5, 10],\n",
    "#     'min_samples_leaf': [1, 2, 4],\n",
    "#     'max_features': ['sqrt', 'log2']\n",
    "# }\n",
    "\n",
    "# #Decision tree\n",
    "# best_hyperparameters_dt, best_score_dt = hyperparameter_search(training_folds, validation_folds, param_grid, 'DecisionTree')\n",
    "# print('Best hyperparameters for Decision Tree:', best_hyperparameters_dt)\n",
    "# print('Best score for Decision Tree:', best_score_dt)"
   ]
  },
  {
   "cell_type": "code",
   "execution_count": 95,
   "metadata": {},
   "outputs": [
    {
     "name": "stdout",
     "output_type": "stream",
     "text": [
      "Best hyperparameters for Decision Tree: {'max_depth': None, 'max_features': 'sqrt', 'min_samples_leaf': 1, 'min_samples_split': 2}\n",
      "Best score for Decision Tree: 10973318169.419563\n"
     ]
    }
   ],
   "source": [
    "param_grid = {\n",
    "    'max_depth': [None, 10, 20, 30],\n",
    "    'min_samples_split': [2, 5, 10],\n",
    "    'min_samples_leaf': [1, 2, 4],\n",
    "    'max_features': ['sqrt', 'log2']\n",
    "}\n",
    "\n",
    "#Decision tree\n",
    "best_hyperparameters_dt_no_city, best_score_dt_no_city = hyperparameter_search(training_folds_no_city, validation_folds_no_city, param_grid, 'DecisionTree')\n",
    "print('Best hyperparameters for Decision Tree:', best_hyperparameters_dt_no_city)\n",
    "print('Best score for Decision Tree:', best_score_dt_no_city)"
   ]
  },
  {
   "cell_type": "code",
   "execution_count": 44,
   "metadata": {},
   "outputs": [],
   "source": [
    "# #XGBoost\n",
    "# param_grid = {\n",
    "#     'max_depth': [3, 5, 7, 9],\n",
    "#     'learning_rate': [0.01, 0.1, 0.3],\n",
    "#     'n_estimators': [100, 200, 300, 400]\n",
    "# }\n",
    "\n",
    "# best_hyperparameters_xgb, best_score_xgb = hyperparameter_search(training_folds, validation_folds, param_grid, 'XGBoost')\n",
    "# print('Best hyperparameters for XGBoost:', best_hyperparameters_xgb)\n",
    "# print('Best score for XGBoost:', best_score_xgb)"
   ]
  },
  {
   "cell_type": "code",
   "execution_count": 96,
   "metadata": {},
   "outputs": [
    {
     "name": "stdout",
     "output_type": "stream",
     "text": [
      "Best hyperparameters for XGBoost: {'learning_rate': 0.3, 'max_depth': 5, 'n_estimators': 400}\n",
      "Best score for XGBoost: 10184566449.964846\n"
     ]
    }
   ],
   "source": [
    "param_grid = {\n",
    "    'max_depth': [3, 5, 7, 9],\n",
    "    'learning_rate': [0.01, 0.1, 0.3],\n",
    "    'n_estimators': [100, 200, 300, 400]\n",
    "}\n",
    "\n",
    "best_hyperparameters_xgb_no_city, best_score_xgb_no_city = hyperparameter_search(training_folds_no_city, validation_folds_no_city, param_grid, 'XGBoost')\n",
    "print('Best hyperparameters for XGBoost:', best_hyperparameters_xgb_no_city)\n",
    "print('Best score for XGBoost:', best_score_xgb_no_city)"
   ]
  },
  {
   "cell_type": "code",
   "execution_count": 34,
   "metadata": {},
   "outputs": [
    {
     "name": "stdout",
     "output_type": "stream",
     "text": [
      "Best hyperparameters for Random Forest: {'max_depth': None, 'max_features': 'sqrt', 'min_samples_leaf': 1, 'min_samples_split': 2}\n",
      "Best score for Random Forest: 17466004926.885338\n"
     ]
    }
   ],
   "source": [
    "# #Random forest\n",
    "# param_grid = {\n",
    "#     'max_depth': [None, 10, 20, 30],\n",
    "#     'min_samples_split': [2, 5, 10],\n",
    "#     'min_samples_leaf': [1, 2, 4],\n",
    "#     'max_features': ['sqrt', 'log2']\n",
    "# }\n",
    "\n",
    "# best_hyperparameters_rf, best_score_rf = hyperparameter_search(training_folds, validation_folds, param_grid, 'RandomForest')\n",
    "# print('Best hyperparameters for Random Forest:', best_hyperparameters_rf)\n",
    "# print('Best score for Random Forest:', best_score_rf)\n"
   ]
  },
  {
   "cell_type": "code",
   "execution_count": 97,
   "metadata": {},
   "outputs": [
    {
     "name": "stdout",
     "output_type": "stream",
     "text": [
      "Best hyperparameters for Random Forest: {'max_depth': None, 'max_features': 'sqrt', 'min_samples_leaf': 1, 'min_samples_split': 2}\n",
      "Best score for Random Forest: 7009546023.616539\n"
     ]
    }
   ],
   "source": [
    "#Random forest\n",
    "param_grid = {\n",
    "    'max_depth': [None, 10, 20, 30],\n",
    "    'min_samples_split': [2, 5, 10],\n",
    "    'min_samples_leaf': [1, 2, 4],\n",
    "    'max_features': ['sqrt', 'log2']\n",
    "}\n",
    "\n",
    "best_hyperparameters_rf_no_city, best_score_rf_no_city = hyperparameter_search(training_folds_no_city, validation_folds_no_city, param_grid, 'RandomForest')\n",
    "print('Best hyperparameters for Random Forest:', best_hyperparameters_rf_no_city)\n",
    "print('Best score for Random Forest:', best_score_rf_no_city)"
   ]
  },
  {
   "cell_type": "markdown",
   "metadata": {},
   "source": [
    "Hyperparameter tuning is the process of finding the optimal hyperparameters for a machine learning model. The goal is to optimize the predictions from the model by minimizing a predefined loss function.\n",
    "\n",
    "We've performed hyperparameter tuning for three models: Decision Tree, XGBoost, and Random Forest. The hyperparameters you've tuned and the best values found are:\n",
    "\n",
    "Decision Tree:\n",
    "\n",
    "'max_depth': None (meaning the tree can grow as deep as necessary)\n",
    "'max_features': 'sqrt' (the number of features to consider when looking for the best split is the square root of the total number of features)\n",
    "'min_samples_leaf': 1 (the minimum number of samples required to be at a leaf node)\n",
    "'min_samples_split': 2 (the minimum number of samples required to split an internal node)\n",
    "\n",
    "XGBoost:\n",
    "\n",
    "'learning_rate': 0.3 (shrinkage parameter applied to each tree in the boosting process)\n",
    "'max_depth': 5 (maximum depth of a tree)\n",
    "'n_estimators': 400 (the number of gradient boosted trees)\n",
    "\n",
    "Random Forest:\n",
    "\n",
    "'max_depth': None (trees can grow as deep as necessary)\n",
    "'max_features': 'sqrt' (the number of features to consider when looking for the best split is the square root of the total number of features)\n",
    "'min_samples_leaf': 1 (the minimum number of samples required to be at a leaf node)\n",
    "'min_samples_split': 2 (the minimum number of samples required to split an internal node)\n",
    "\n",
    "Lower scores are better, so according to these results, the Random Forest model with the given hyperparameters performed the best out of the three models."
   ]
  },
  {
   "cell_type": "markdown",
   "metadata": {},
   "source": [
    "We want to make sure that we save our models.  In the old days, one just simply pickled (serialized) the model.  Now, however, certain model types have their own save format.  If the model is from sklearn, it can be pickled, if it's xgboost, for example, the newest format to save it in is JSON, but it can also be pickled.  It's a good idea to stay with the most current methods. \n",
    "- you may want to create a new `models/` subdirectory in your repo to stay organized"
   ]
  },
  {
   "cell_type": "code",
   "execution_count": 35,
   "metadata": {},
   "outputs": [
    {
     "data": {
      "text/plain": [
       "['../models/final_model_dt.pkl']"
      ]
     },
     "execution_count": 35,
     "metadata": {},
     "output_type": "execute_result"
    }
   ],
   "source": [
    "# save your best model here\n",
    "final_model_dt = DecisionTreeRegressor(**best_hyperparameters_dt, random_state=42)\n",
    "final_model_dt.fit(X_train, y_train)\n",
    "\n",
    "#save\n",
    "joblib.dump(final_model_dt, '../models/final_model_dt.pkl')"
   ]
  },
  {
   "cell_type": "code",
   "execution_count": 47,
   "metadata": {},
   "outputs": [
    {
     "data": {
      "text/plain": [
       "['../models/final_model_dt_no_city.pkl']"
      ]
     },
     "execution_count": 47,
     "metadata": {},
     "output_type": "execute_result"
    }
   ],
   "source": [
    "#save best model no city \n",
    "final_model_dt_no_city = DecisionTreeRegressor(**best_hyperparameters_dt_no_city, random_state=42)\n",
    "final_model_dt_no_city.fit(X_train_no_city, Y_train_no_city)\n",
    "\n",
    "#save\n",
    "joblib.dump(final_model_dt_no_city, '../models/final_model_dt_no_city.pkl')"
   ]
  },
  {
   "cell_type": "code",
   "execution_count": 48,
   "metadata": {},
   "outputs": [
    {
     "data": {
      "text/plain": [
       "['../models/final_model_xgb_no_city.pkl']"
      ]
     },
     "execution_count": 48,
     "metadata": {},
     "output_type": "execute_result"
    }
   ],
   "source": [
    "#save best model no city\n",
    "final_model_xgb_no_city = XGBRegressor(**best_hyperparameters_xgb_no_city, random_state=42)\n",
    "final_model_xgb_no_city.fit(X_train_no_city, Y_train_no_city)\n",
    "\n",
    "#save\n",
    "joblib.dump(final_model_xgb_no_city, '../models/final_model_xgb_no_city.pkl')"
   ]
  },
  {
   "cell_type": "code",
   "execution_count": 49,
   "metadata": {},
   "outputs": [
    {
     "data": {
      "text/plain": [
       "['../models/final_model_rf_no_city.pkl']"
      ]
     },
     "execution_count": 49,
     "metadata": {},
     "output_type": "execute_result"
    }
   ],
   "source": [
    "#save best model no city\n",
    "final_model_rf_no_city = RandomForestRegressor(**best_hyperparameters_rf_no_city, random_state=42)\n",
    "final_model_rf_no_city.fit(X_train_no_city, Y_train_no_city)\n",
    "\n",
    "#save\n",
    "joblib.dump(final_model_rf_no_city, '../models/final_model_rf_no_city.pkl')"
   ]
  },
  {
   "cell_type": "code",
   "execution_count": 36,
   "metadata": {},
   "outputs": [
    {
     "data": {
      "text/plain": [
       "['../models/final_model_rf.pkl']"
      ]
     },
     "execution_count": 36,
     "metadata": {},
     "output_type": "execute_result"
    }
   ],
   "source": [
    "#save\n",
    "final_model_rf = RandomForestRegressor(**best_hyperparameters_rf, random_state=42)\n",
    "final_model_rf.fit(X_train, y_train)\n",
    "\n",
    "joblib.dump(final_model_rf, '../models/final_model_rf.pkl')"
   ]
  },
  {
   "cell_type": "markdown",
   "metadata": {},
   "source": [
    "Once you've identified which model works the best, implement a prediction pipeline to make sure that you haven't leaked any data, and that the model could be easily deployed if desired.\n",
    "- Your pipeline should load the data, process it, load your saved tuned model, and output a set of predictions\n",
    "- Assume that the new data is in the same JSON format as your original data - you can use your original data to check that the pipeline works correctly\n",
    "- Beware that a pipeline can only handle functions with fit and transform methods.\n",
    "- Classes can be used to get around this, but now sklearn has a wrapper for user defined functions.\n",
    "- You can develop your functions or classes in the notebook here, but once they are working, you should import them from `functions_variables.py` "
   ]
  },
  {
   "cell_type": "code",
   "execution_count": 58,
   "metadata": {},
   "outputs": [
    {
     "name": "stdout",
     "output_type": "stream",
     "text": [
      "Decision Tree Model Performance\n",
      "MSE for Decision Tree: 1158741595.0761547\n",
      "MAE for Decision Tree: 5962.164794007491\n",
      "R^2 for Decision Tree: 0.9962159498978231\n"
     ]
    }
   ],
   "source": [
    "#Comparing the models\n",
    "#decision tree\n",
    "preds_dt = final_model_dt_no_city.predict(X_val_no_city)\n",
    "mse_dt = mean_squared_error(Y_val_no_city, preds_dt)\n",
    "mae_dt = mean_absolute_error(Y_val_no_city, preds_dt)\n",
    "r2_dt = r2_score(Y_val_no_city, preds_dt)\n",
    "\n",
    "print(\"Decision Tree Model Performance\")\n",
    "print(f\"MSE for Decision Tree: {mse_dt}\")\n",
    "print(f\"MAE for Decision Tree: {mae_dt}\")\n",
    "print(f\"R^2 for Decision Tree: {r2_dt}\")"
   ]
  },
  {
   "cell_type": "code",
   "execution_count": 59,
   "metadata": {},
   "outputs": [
    {
     "name": "stdout",
     "output_type": "stream",
     "text": [
      "XGBoost Model Performance\n",
      "MSE for XGBoost: 1098543998.7651935\n",
      "MAE for XGBoost: 5093.107101230883\n",
      "R^2 for XGBoost: 0.9964125156402588\n"
     ]
    }
   ],
   "source": [
    "#xgboost\n",
    "preds_xgb = final_model_xgb_no_city.predict(X_val_no_city)\n",
    "mse_xgb = mean_squared_error(Y_val_no_city, preds_xgb)\n",
    "mae_xgb = mean_absolute_error(Y_val_no_city, preds_xgb)\n",
    "r2_xgb = r2_score(Y_val_no_city, preds_xgb)\n",
    "\n",
    "print(\"XGBoost Model Performance\")\n",
    "print(f\"MSE for XGBoost: {mse_xgb}\")\n",
    "print(f\"MAE for XGBoost: {mae_xgb}\")\n",
    "print(f\"R^2 for XGBoost: {r2_xgb}\")\n"
   ]
  },
  {
   "cell_type": "code",
   "execution_count": 60,
   "metadata": {},
   "outputs": [
    {
     "name": "stdout",
     "output_type": "stream",
     "text": [
      "Random Forest Model Performance\n",
      "MSE for Random Forest: 3421032966.005119\n",
      "MAE for Random Forest: 20027.850761548067\n",
      "R^2 for Random Forest: 0.9888280871252305\n"
     ]
    }
   ],
   "source": [
    "#random forest\n",
    "preds_rf = final_model_rf_no_city.predict(X_val_no_city)\n",
    "mse_rf = mean_squared_error(Y_val_no_city, preds_rf)\n",
    "mae_rf = mean_absolute_error(Y_val_no_city, preds_rf)\n",
    "r2_rf = r2_score(Y_val_no_city, preds_rf)\n",
    "\n",
    "print(\"Random Forest Model Performance\")\n",
    "print(f\"MSE for Random Forest: {mse_rf}\")\n",
    "print(f\"MAE for Random Forest: {mae_rf}\")\n",
    "print(f\"R^2 for Random Forest: {r2_rf}\")"
   ]
  },
  {
   "cell_type": "markdown",
   "metadata": {},
   "source": [
    "XGBoost seems to have the best performance here. The MSE is 1098543998.7651935, slightly lower than the Decision Tree's MSE. This means that the XGBoost model's predictions are, on average, slightly closer to the actual values.\n",
    "The MAE is 5093.107, which is lower than the Decision Tree's MAE. This means that the XGBoost model's predictions are, on average, about $5093 off the actual values, which is better than the Decision Tree model.\n",
    "The R^2 score is 0.9964, slightly higher than the Decision Tree's R^2 score. This indicates that the XGBoost model explains slightly more of the variance in the target variable than the Decision Tree model."
   ]
  },
  {
   "cell_type": "markdown",
   "metadata": {},
   "source": [
    "Feature importance refers to techniques that assign a score to input features based on how useful they are at predicting a target variable. Feature importance provides a ranking of features, which can help in understanding the model. Feature importance can be used for feature selection. This can help in reducing overfitting, improving accuracy, and reducing training time. If some features have very low importance, they can potentially be dropped from the model."
   ]
  },
  {
   "cell_type": "code",
   "execution_count": 61,
   "metadata": {},
   "outputs": [],
   "source": [
    "#Feature importance Random Forest\n",
    "feature_importance = final_model_rf_no_city.feature_importances_\n",
    "features = X_train_no_city.columns\n",
    "feature_df = pd.DataFrame({'feature': features, 'importance': feature_importance})\n",
    "feature_df = feature_df.sort_values(by='importance', ascending=False)"
   ]
  },
  {
   "cell_type": "code",
   "execution_count": 64,
   "metadata": {},
   "outputs": [],
   "source": [
    "#Feature importance Decision Tree\n",
    "feature_importance_dt = final_model_dt_no_city.feature_importances_\n",
    "features_dt = X_train_no_city.columns\n",
    "feature_df_dt = pd.DataFrame({'feature': features_dt, 'importance': feature_importance_dt})\n",
    "feature_df_dt = feature_df_dt.sort_values(by='importance', ascending=False)\n"
   ]
  },
  {
   "cell_type": "code",
   "execution_count": 67,
   "metadata": {},
   "outputs": [],
   "source": [
    "#Feature importance XGBoost\n",
    "feature_importance_xgb = final_model_xgb_no_city.feature_importances_\n",
    "features_xgb = X_train_no_city.columns\n",
    "feature_df_xgb = pd.DataFrame({'feature': features_xgb, 'importance': feature_importance_xgb})\n",
    "feature_df_xgb = feature_df_xgb.sort_values(by='importance', ascending=False)"
   ]
  },
  {
   "cell_type": "code",
   "execution_count": 63,
   "metadata": {},
   "outputs": [
    {
     "data": {
      "image/png": "[encoded data removed]",
      "text/plain": [
       "<Figure size 1000x600 with 1 Axes>"
      ]
     },
     "metadata": {},
     "output_type": "display_data"
    },
    {
     "data": {
      "text/plain": [
       "<Figure size 640x480 with 0 Axes>"
      ]
     },
     "metadata": {},
     "output_type": "display_data"
    }
   ],
   "source": [
    "#plot \n",
    "plt.figure(figsize=(10, 6))\n",
    "sns.barplot(x='importance', y='feature', data=feature_df)\n",
    "plt.title('Feature Importance for Random Forest Model')\n",
    "plt.show()\n",
    "\n",
    "plt.savefig('../images/feature_importance_rf.png')"
   ]
  },
  {
   "cell_type": "markdown",
   "metadata": {},
   "source": [
    "The top features here are sqft, lot sqft, baths, year_built and bedrooms. These top features make sense for the model. "
   ]
  },
  {
   "cell_type": "code",
   "execution_count": 66,
   "metadata": {},
   "outputs": [
    {
     "data": {
      "image/png": "[encoded data removed]",
      "text/plain": [
       "<Figure size 1000x600 with 1 Axes>"
      ]
     },
     "metadata": {},
     "output_type": "display_data"
    },
    {
     "data": {
      "text/plain": [
       "<Figure size 640x480 with 0 Axes>"
      ]
     },
     "metadata": {},
     "output_type": "display_data"
    }
   ],
   "source": [
    "#plot feature importance for decision tree\n",
    "plt.figure(figsize=(10, 6))\n",
    "sns.barplot(x='importance', y='feature', data=feature_df_dt)\n",
    "plt.title('Feature Importance for Decision Tree Model')\n",
    "plt.show()\n",
    "\n",
    "plt.savefig('../images/feature_importance_dt.png')"
   ]
  },
  {
   "cell_type": "markdown",
   "metadata": {},
   "source": [
    "The top features here are quite interesting! First, we see that the top feature is property ID which suggests that maybe there must have been an inherent order to the IDs when the data was queried, giving higher house prices the top IDs. SQFT seems to be at the 5th spot, which is strange as it is usually an important predictor in house prices. "
   ]
  },
  {
   "cell_type": "code",
   "execution_count": 68,
   "metadata": {},
   "outputs": [
    {
     "data": {
      "image/png": "[encoded data removed]",
      "text/plain": [
       "<Figure size 1000x600 with 1 Axes>"
      ]
     },
     "metadata": {},
     "output_type": "display_data"
    }
   ],
   "source": [
    "#Plot feature importance for XGBoost\n",
    "plt.figure(figsize=(10, 6))\n",
    "sns.barplot(x='importance', y='feature', data=feature_df_xgb)\n",
    "plt.title('Feature Importance for XGBoost Model')\n",
    "plt.show()"
   ]
  },
  {
   "cell_type": "markdown",
   "metadata": {},
   "source": [
    "This model also has very interesting results as the BATHS seem to be the most important feature. For example, houses with more bathrooms are likely to be predicted as more expensive. "
   ]
  },
  {
   "cell_type": "code",
   "execution_count": 74,
   "metadata": {},
   "outputs": [
    {
     "name": "stdout",
     "output_type": "stream",
     "text": [
      "Decision Tree Model Performance with Feature Selection\n",
      "MSE for Decision Tree: 27788646562.4382\n",
      "MAE for Decision Tree: 18807.63920099875\n",
      "R^2 for Decision Tree: 0.9092518717626247\n"
     ]
    }
   ],
   "source": [
    "# #Feature selection for Decision Tree\n",
    "# model_dt_selected = DecisionTreeRegressor(**best_hyperparameters_dt_no_city, random_state=42)\n",
    "\n",
    "# #Selecting top 10 features\n",
    "# selector = SelectFromModel(model_dt_selected, max_features=10)\n",
    "# X_train_selected = selector.fit_transform(X_train_no_city, Y_train_no_city)\n",
    "# X_val_selected = selector.transform(X_val_no_city)\n",
    "\n",
    "# #Fit the model\n",
    "# model_dt_selected.fit(X_train_selected, Y_train_no_city)\n",
    "# preds_dt_selected = model_dt_selected.predict(X_val_selected)\n",
    "\n",
    "# #Metrics\n",
    "# mse_dt_selected = mean_squared_error(Y_val_no_city, preds_dt_selected)\n",
    "# mae_dt_selected = mean_absolute_error(Y_val_no_city, preds_dt_selected)\n",
    "# r2_dt_selected = r2_score(Y_val_no_city, preds_dt_selected)\n",
    "\n",
    "# print(\"Decision Tree Model Performance with Feature Selection\")\n",
    "# print(f\"MSE for Decision Tree: {mse_dt_selected}\")\n",
    "# print(f\"MAE for Decision Tree: {mae_dt_selected}\")\n",
    "# print(f\"R^2 for Decision Tree: {r2_dt_selected}\")\n"
   ]
  },
  {
   "cell_type": "code",
   "execution_count": 75,
   "metadata": {},
   "outputs": [
    {
     "name": "stdout",
     "output_type": "stream",
     "text": [
      "Decision Tree Model Performance with Top 10 Features\n",
      "MSE for Decision Tree: 3266021558.9413233\n",
      "MAE for Decision Tree: 7855.857677902622\n",
      "R^2 for Decision Tree: 0.9893343008774863\n"
     ]
    }
   ],
   "source": [
    "model_dt_selected = DecisionTreeRegressor(**best_hyperparameters_dt_no_city, random_state=42)\n",
    "top_10_features = feature_df_dt['feature'][:10].values\n",
    "X_train_top_10 = X_train_no_city[top_10_features]\n",
    "X_val_top_10 = X_val_no_city[top_10_features]\n",
    "\n",
    "model_dt_selected.fit(X_train_top_10, Y_train_no_city)\n",
    "preds_dt_top_10 = model_dt_selected.predict(X_val_top_10)\n",
    "\n",
    "mse_dt_top_10 = mean_squared_error(Y_val_no_city, preds_dt_top_10)\n",
    "mae_dt_top_10 = mean_absolute_error(Y_val_no_city, preds_dt_top_10)\n",
    "r2_dt_top_10 = r2_score(Y_val_no_city, preds_dt_top_10)\n",
    "\n",
    "print(\"Decision Tree Model Performance with Top 10 Features\")\n",
    "print(f\"MSE for Decision Tree: {mse_dt_top_10}\")\n",
    "print(f\"MAE for Decision Tree: {mae_dt_top_10}\")\n",
    "print(f\"R^2 for Decision Tree: {r2_dt_top_10}\")\n"
   ]
  },
  {
   "cell_type": "code",
   "execution_count": 71,
   "metadata": {},
   "outputs": [
    {
     "name": "stdout",
     "output_type": "stream",
     "text": [
      "Random Forest Model Performance with Top 10 Features\n",
      "MSE for Random Forest: 4906240941.32175\n",
      "MAE for Random Forest: 22411.311335830214\n",
      "R^2 for Random Forest: 0.9839779105072233\n"
     ]
    }
   ],
   "source": [
    "#Feature selecting for random forest \n",
    "model_selected = RandomForestRegressor(**best_hyperparameters_rf_no_city, random_state=42)\n",
    "#Selecting the top 10 features\n",
    "top_10_features = feature_df['feature'][:10].values\n",
    "X_train_top_10 = X_train_no_city[top_10_features]\n",
    "X_val_top_10 = X_val_no_city[top_10_features]\n",
    "\n",
    "model_selected.fit(X_train_top_10, Y_train_no_city)\n",
    "preds_selected = model_selected.predict(X_val_top_10)\n",
    "\n",
    "mse_selected = mean_squared_error(Y_val_no_city, preds_selected)\n",
    "mae_selected = mean_absolute_error(Y_val_no_city, preds_selected)\n",
    "r2_selected = r2_score(Y_val_no_city, preds_selected)\n",
    "\n",
    "print(\"Random Forest Model Performance with Top 10 Features\")\n",
    "print(f\"MSE for Random Forest: {mse_selected}\")\n",
    "print(f\"MAE for Random Forest: {mae_selected}\")\n",
    "print(f\"R^2 for Random Forest: {r2_selected}\")\n",
    "\n",
    "\n"
   ]
  },
  {
   "cell_type": "code",
   "execution_count": null,
   "metadata": {},
   "outputs": [],
   "source": [
    "# Build pipeline here (ideal)"
   ]
  },
  {
   "cell_type": "markdown",
   "metadata": {},
   "source": [
    "For the pipeline here, I decided to work from 'scratch' and used Standard Scaler and OneHotEncoder in the final pipeline. "
   ]
  },
  {
   "cell_type": "code",
   "execution_count": 76,
   "metadata": {},
   "outputs": [],
   "source": [
    "#Import data (from first split in eda)\n",
    "X_train = pd.read_csv('../data/dataframes/X_train.csv')\n",
    "X_test = pd.read_csv('../data/dataframes/X_test.csv')\n",
    "Y_train = pd.read_csv('../data/dataframes/Y_train.csv')\n",
    "Y_test = pd.read_csv('../data/dataframes/Y_test.csv')\n"
   ]
  },
  {
   "cell_type": "code",
   "execution_count": 78,
   "metadata": {},
   "outputs": [],
   "source": [
    "X_train.drop(columns=['permalink', 'listing', 'primary_photo', 'state', 'postal_code', 'sold_date'], inplace=True)\n",
    "X_test.drop(columns=['permalink', 'listing', 'primary_photo', 'state', 'postal_code', 'sold_date'], inplace=True)"
   ]
  },
  {
   "cell_type": "code",
   "execution_count": 79,
   "metadata": {},
   "outputs": [
    {
     "data": {
      "text/plain": [
       "Index(['year_built', 'property_id', 'lot_sqft', 'sqft', 'baths', 'garages',\n",
       "       'beds', 'city', 'recreation_facilities', 'single_story',\n",
       "       'garage_1_or_more', 'hardwood_floors', 'dining_room',\n",
       "       'community_security_features', 'garage_2_or_more',\n",
       "       'two_or_more_stories', 'forced_air', 'shopping', 'central_air',\n",
       "       'basement', 'community_outdoor_space', 'dishwasher', 'fireplace',\n",
       "       'washer_dryer'],\n",
       "      dtype='object')"
      ]
     },
     "execution_count": 79,
     "metadata": {},
     "output_type": "execute_result"
    }
   ],
   "source": [
    "X_train.columns"
   ]
  },
  {
   "cell_type": "code",
   "execution_count": 82,
   "metadata": {},
   "outputs": [],
   "source": [
    "#Numerical features\n",
    "numerical_features = ['beds', 'baths', 'sqft', 'lot_sqft', 'year_built', 'property_id','garages']\n",
    "#Categorical features\n",
    "categorical_features = ['city']"
   ]
  },
  {
   "cell_type": "code",
   "execution_count": 87,
   "metadata": {},
   "outputs": [
    {
     "data": {
      "text/html": [
       "<style>#sk-container-id-2 {\n",
       "  /* Definition of color scheme common for light and dark mode */\n",
       "  --sklearn-color-text: black;\n",
       "  --sklearn-color-line: gray;\n",
       "  /* Definition of color scheme for unfitted estimators */\n",
       "  --sklearn-color-unfitted-level-0: #fff5e6;\n",
       "  --sklearn-color-unfitted-level-1: #f6e4d2;\n",
       "  --sklearn-color-unfitted-level-2: #ffe0b3;\n",
       "  --sklearn-color-unfitted-level-3: chocolate;\n",
       "  /* Definition of color scheme for fitted estimators */\n",
       "  --sklearn-color-fitted-level-0: #f0f8ff;\n",
       "  --sklearn-color-fitted-level-1: #d4ebff;\n",
       "  --sklearn-color-fitted-level-2: #b3dbfd;\n",
       "  --sklearn-color-fitted-level-3: cornflowerblue;\n",
       "\n",
       "  /* Specific color for light theme */\n",
       "  --sklearn-color-text-on-default-background: var(--sg-text-color, var(--theme-code-foreground, var(--jp-content-font-color1, black)));\n",
       "  --sklearn-color-background: var(--sg-background-color, var(--theme-background, var(--jp-layout-color0, white)));\n",
       "  --sklearn-color-border-box: var(--sg-text-color, var(--theme-code-foreground, var(--jp-content-font-color1, black)));\n",
       "  --sklearn-color-icon: #696969;\n",
       "\n",
       "  @media (prefers-color-scheme: dark) {\n",
       "    /* Redefinition of color scheme for dark theme */\n",
       "    --sklearn-color-text-on-default-background: var(--sg-text-color, var(--theme-code-foreground, var(--jp-content-font-color1, white)));\n",
       "    --sklearn-color-background: var(--sg-background-color, var(--theme-background, var(--jp-layout-color0, #111)));\n",
       "    --sklearn-color-border-box: var(--sg-text-color, var(--theme-code-foreground, var(--jp-content-font-color1, white)));\n",
       "    --sklearn-color-icon: #878787;\n",
       "  }\n",
       "}\n",
       "\n",
       "#sk-container-id-2 {\n",
       "  color: var(--sklearn-color-text);\n",
       "}\n",
       "\n",
       "#sk-container-id-2 pre {\n",
       "  padding: 0;\n",
       "}\n",
       "\n",
       "#sk-container-id-2 input.sk-hidden--visually {\n",
       "  border: 0;\n",
       "  clip: rect(1px 1px 1px 1px);\n",
       "  clip: rect(1px, 1px, 1px, 1px);\n",
       "  height: 1px;\n",
       "  margin: -1px;\n",
       "  overflow: hidden;\n",
       "  padding: 0;\n",
       "  position: absolute;\n",
       "  width: 1px;\n",
       "}\n",
       "\n",
       "#sk-container-id-2 div.sk-dashed-wrapped {\n",
       "  border: 1px dashed var(--sklearn-color-line);\n",
       "  margin: 0 0.4em 0.5em 0.4em;\n",
       "  box-sizing: border-box;\n",
       "  padding-bottom: 0.4em;\n",
       "  background-color: var(--sklearn-color-background);\n",
       "}\n",
       "\n",
       "#sk-container-id-2 div.sk-container {\n",
       "  /* jupyter's `normalize.less` sets `[hidden] { display: none; }`\n",
       "     but bootstrap.min.css set `[hidden] { display: none !important; }`\n",
       "     so we also need the `!important` here to be able to override the\n",
       "     default hidden behavior on the sphinx rendered scikit-learn.org.\n",
       "     See: https://github.com/scikit-learn/scikit-learn/issues/21755 */\n",
       "  display: inline-block !important;\n",
       "  position: relative;\n",
       "}\n",
       "\n",
       "#sk-container-id-2 div.sk-text-repr-fallback {\n",
       "  display: none;\n",
       "}\n",
       "\n",
       "div.sk-parallel-item,\n",
       "div.sk-serial,\n",
       "div.sk-item {\n",
       "  /* draw centered vertical line to link estimators */\n",
       "  background-image: linear-gradient(var(--sklearn-color-text-on-default-background), var(--sklearn-color-text-on-default-background));\n",
       "  background-size: 2px 100%;\n",
       "  background-repeat: no-repeat;\n",
       "  background-position: center center;\n",
       "}\n",
       "\n",
       "/* Parallel-specific style estimator block */\n",
       "\n",
       "#sk-container-id-2 div.sk-parallel-item::after {\n",
       "  content: \"\";\n",
       "  width: 100%;\n",
       "  border-bottom: 2px solid var(--sklearn-color-text-on-default-background);\n",
       "  flex-grow: 1;\n",
       "}\n",
       "\n",
       "#sk-container-id-2 div.sk-parallel {\n",
       "  display: flex;\n",
       "  align-items: stretch;\n",
       "  justify-content: center;\n",
       "  background-color: var(--sklearn-color-background);\n",
       "  position: relative;\n",
       "}\n",
       "\n",
       "#sk-container-id-2 div.sk-parallel-item {\n",
       "  display: flex;\n",
       "  flex-direction: column;\n",
       "}\n",
       "\n",
       "#sk-container-id-2 div.sk-parallel-item:first-child::after {\n",
       "  align-self: flex-end;\n",
       "  width: 50%;\n",
       "}\n",
       "\n",
       "#sk-container-id-2 div.sk-parallel-item:last-child::after {\n",
       "  align-self: flex-start;\n",
       "  width: 50%;\n",
       "}\n",
       "\n",
       "#sk-container-id-2 div.sk-parallel-item:only-child::after {\n",
       "  width: 0;\n",
       "}\n",
       "\n",
       "/* Serial-specific style estimator block */\n",
       "\n",
       "#sk-container-id-2 div.sk-serial {\n",
       "  display: flex;\n",
       "  flex-direction: column;\n",
       "  align-items: center;\n",
       "  background-color: var(--sklearn-color-background);\n",
       "  padding-right: 1em;\n",
       "  padding-left: 1em;\n",
       "}\n",
       "\n",
       "\n",
       "/* Toggleable style: style used for estimator/Pipeline/ColumnTransformer box that is\n",
       "clickable and can be expanded/collapsed.\n",
       "- Pipeline and ColumnTransformer use this feature and define the default style\n",
       "- Estimators will overwrite some part of the style using the `sk-estimator` class\n",
       "*/\n",
       "\n",
       "/* Pipeline and ColumnTransformer style (default) */\n",
       "\n",
       "#sk-container-id-2 div.sk-toggleable {\n",
       "  /* Default theme specific background. It is overwritten whether we have a\n",
       "  specific estimator or a Pipeline/ColumnTransformer */\n",
       "  background-color: var(--sklearn-color-background);\n",
       "}\n",
       "\n",
       "/* Toggleable label */\n",
       "#sk-container-id-2 label.sk-toggleable__label {\n",
       "  cursor: pointer;\n",
       "  display: block;\n",
       "  width: 100%;\n",
       "  margin-bottom: 0;\n",
       "  padding: 0.5em;\n",
       "  box-sizing: border-box;\n",
       "  text-align: center;\n",
       "}\n",
       "\n",
       "#sk-container-id-2 label.sk-toggleable__label-arrow:before {\n",
       "  /* Arrow on the left of the label */\n",
       "  content: \"▸\";\n",
       "  float: left;\n",
       "  margin-right: 0.25em;\n",
       "  color: var(--sklearn-color-icon);\n",
       "}\n",
       "\n",
       "#sk-container-id-2 label.sk-toggleable__label-arrow:hover:before {\n",
       "  color: var(--sklearn-color-text);\n",
       "}\n",
       "\n",
       "/* Toggleable content - dropdown */\n",
       "\n",
       "#sk-container-id-2 div.sk-toggleable__content {\n",
       "  max-height: 0;\n",
       "  max-width: 0;\n",
       "  overflow: hidden;\n",
       "  text-align: left;\n",
       "  /* unfitted */\n",
       "  background-color: var(--sklearn-color-unfitted-level-0);\n",
       "}\n",
       "\n",
       "#sk-container-id-2 div.sk-toggleable__content.fitted {\n",
       "  /* fitted */\n",
       "  background-color: var(--sklearn-color-fitted-level-0);\n",
       "}\n",
       "\n",
       "#sk-container-id-2 div.sk-toggleable__content pre {\n",
       "  margin: 0.2em;\n",
       "  border-radius: 0.25em;\n",
       "  color: var(--sklearn-color-text);\n",
       "  /* unfitted */\n",
       "  background-color: var(--sklearn-color-unfitted-level-0);\n",
       "}\n",
       "\n",
       "#sk-container-id-2 div.sk-toggleable__content.fitted pre {\n",
       "  /* unfitted */\n",
       "  background-color: var(--sklearn-color-fitted-level-0);\n",
       "}\n",
       "\n",
       "#sk-container-id-2 input.sk-toggleable__control:checked~div.sk-toggleable__content {\n",
       "  /* Expand drop-down */\n",
       "  max-height: 200px;\n",
       "  max-width: 100%;\n",
       "  overflow: auto;\n",
       "}\n",
       "\n",
       "#sk-container-id-2 input.sk-toggleable__control:checked~label.sk-toggleable__label-arrow:before {\n",
       "  content: \"▾\";\n",
       "}\n",
       "\n",
       "/* Pipeline/ColumnTransformer-specific style */\n",
       "\n",
       "#sk-container-id-2 div.sk-label input.sk-toggleable__control:checked~label.sk-toggleable__label {\n",
       "  color: var(--sklearn-color-text);\n",
       "  background-color: var(--sklearn-color-unfitted-level-2);\n",
       "}\n",
       "\n",
       "#sk-container-id-2 div.sk-label.fitted input.sk-toggleable__control:checked~label.sk-toggleable__label {\n",
       "  background-color: var(--sklearn-color-fitted-level-2);\n",
       "}\n",
       "\n",
       "/* Estimator-specific style */\n",
       "\n",
       "/* Colorize estimator box */\n",
       "#sk-container-id-2 div.sk-estimator input.sk-toggleable__control:checked~label.sk-toggleable__label {\n",
       "  /* unfitted */\n",
       "  background-color: var(--sklearn-color-unfitted-level-2);\n",
       "}\n",
       "\n",
       "#sk-container-id-2 div.sk-estimator.fitted input.sk-toggleable__control:checked~label.sk-toggleable__label {\n",
       "  /* fitted */\n",
       "  background-color: var(--sklearn-color-fitted-level-2);\n",
       "}\n",
       "\n",
       "#sk-container-id-2 div.sk-label label.sk-toggleable__label,\n",
       "#sk-container-id-2 div.sk-label label {\n",
       "  /* The background is the default theme color */\n",
       "  color: var(--sklearn-color-text-on-default-background);\n",
       "}\n",
       "\n",
       "/* On hover, darken the color of the background */\n",
       "#sk-container-id-2 div.sk-label:hover label.sk-toggleable__label {\n",
       "  color: var(--sklearn-color-text);\n",
       "  background-color: var(--sklearn-color-unfitted-level-2);\n",
       "}\n",
       "\n",
       "/* Label box, darken color on hover, fitted */\n",
       "#sk-container-id-2 div.sk-label.fitted:hover label.sk-toggleable__label.fitted {\n",
       "  color: var(--sklearn-color-text);\n",
       "  background-color: var(--sklearn-color-fitted-level-2);\n",
       "}\n",
       "\n",
       "/* Estimator label */\n",
       "\n",
       "#sk-container-id-2 div.sk-label label {\n",
       "  font-family: monospace;\n",
       "  font-weight: bold;\n",
       "  display: inline-block;\n",
       "  line-height: 1.2em;\n",
       "}\n",
       "\n",
       "#sk-container-id-2 div.sk-label-container {\n",
       "  text-align: center;\n",
       "}\n",
       "\n",
       "/* Estimator-specific */\n",
       "#sk-container-id-2 div.sk-estimator {\n",
       "  font-family: monospace;\n",
       "  border: 1px dotted var(--sklearn-color-border-box);\n",
       "  border-radius: 0.25em;\n",
       "  box-sizing: border-box;\n",
       "  margin-bottom: 0.5em;\n",
       "  /* unfitted */\n",
       "  background-color: var(--sklearn-color-unfitted-level-0);\n",
       "}\n",
       "\n",
       "#sk-container-id-2 div.sk-estimator.fitted {\n",
       "  /* fitted */\n",
       "  background-color: var(--sklearn-color-fitted-level-0);\n",
       "}\n",
       "\n",
       "/* on hover */\n",
       "#sk-container-id-2 div.sk-estimator:hover {\n",
       "  /* unfitted */\n",
       "  background-color: var(--sklearn-color-unfitted-level-2);\n",
       "}\n",
       "\n",
       "#sk-container-id-2 div.sk-estimator.fitted:hover {\n",
       "  /* fitted */\n",
       "  background-color: var(--sklearn-color-fitted-level-2);\n",
       "}\n",
       "\n",
       "/* Specification for estimator info (e.g. \"i\" and \"?\") */\n",
       "\n",
       "/* Common style for \"i\" and \"?\" */\n",
       "\n",
       ".sk-estimator-doc-link,\n",
       "a:link.sk-estimator-doc-link,\n",
       "a:visited.sk-estimator-doc-link {\n",
       "  float: right;\n",
       "  font-size: smaller;\n",
       "  line-height: 1em;\n",
       "  font-family: monospace;\n",
       "  background-color: var(--sklearn-color-background);\n",
       "  border-radius: 1em;\n",
       "  height: 1em;\n",
       "  width: 1em;\n",
       "  text-decoration: none !important;\n",
       "  margin-left: 1ex;\n",
       "  /* unfitted */\n",
       "  border: var(--sklearn-color-unfitted-level-1) 1pt solid;\n",
       "  color: var(--sklearn-color-unfitted-level-1);\n",
       "}\n",
       "\n",
       ".sk-estimator-doc-link.fitted,\n",
       "a:link.sk-estimator-doc-link.fitted,\n",
       "a:visited.sk-estimator-doc-link.fitted {\n",
       "  /* fitted */\n",
       "  border: var(--sklearn-color-fitted-level-1) 1pt solid;\n",
       "  color: var(--sklearn-color-fitted-level-1);\n",
       "}\n",
       "\n",
       "/* On hover */\n",
       "div.sk-estimator:hover .sk-estimator-doc-link:hover,\n",
       ".sk-estimator-doc-link:hover,\n",
       "div.sk-label-container:hover .sk-estimator-doc-link:hover,\n",
       ".sk-estimator-doc-link:hover {\n",
       "  /* unfitted */\n",
       "  background-color: var(--sklearn-color-unfitted-level-3);\n",
       "  color: var(--sklearn-color-background);\n",
       "  text-decoration: none;\n",
       "}\n",
       "\n",
       "div.sk-estimator.fitted:hover .sk-estimator-doc-link.fitted:hover,\n",
       ".sk-estimator-doc-link.fitted:hover,\n",
       "div.sk-label-container:hover .sk-estimator-doc-link.fitted:hover,\n",
       ".sk-estimator-doc-link.fitted:hover {\n",
       "  /* fitted */\n",
       "  background-color: var(--sklearn-color-fitted-level-3);\n",
       "  color: var(--sklearn-color-background);\n",
       "  text-decoration: none;\n",
       "}\n",
       "\n",
       "/* Span, style for the box shown on hovering the info icon */\n",
       ".sk-estimator-doc-link span {\n",
       "  display: none;\n",
       "  z-index: 9999;\n",
       "  position: relative;\n",
       "  font-weight: normal;\n",
       "  right: .2ex;\n",
       "  padding: .5ex;\n",
       "  margin: .5ex;\n",
       "  width: min-content;\n",
       "  min-width: 20ex;\n",
       "  max-width: 50ex;\n",
       "  color: var(--sklearn-color-text);\n",
       "  box-shadow: 2pt 2pt 4pt #999;\n",
       "  /* unfitted */\n",
       "  background: var(--sklearn-color-unfitted-level-0);\n",
       "  border: .5pt solid var(--sklearn-color-unfitted-level-3);\n",
       "}\n",
       "\n",
       ".sk-estimator-doc-link.fitted span {\n",
       "  /* fitted */\n",
       "  background: var(--sklearn-color-fitted-level-0);\n",
       "  border: var(--sklearn-color-fitted-level-3);\n",
       "}\n",
       "\n",
       ".sk-estimator-doc-link:hover span {\n",
       "  display: block;\n",
       "}\n",
       "\n",
       "/* \"?\"-specific style due to the `<a>` HTML tag */\n",
       "\n",
       "#sk-container-id-2 a.estimator_doc_link {\n",
       "  float: right;\n",
       "  font-size: 1rem;\n",
       "  line-height: 1em;\n",
       "  font-family: monospace;\n",
       "  background-color: var(--sklearn-color-background);\n",
       "  border-radius: 1rem;\n",
       "  height: 1rem;\n",
       "  width: 1rem;\n",
       "  text-decoration: none;\n",
       "  /* unfitted */\n",
       "  color: var(--sklearn-color-unfitted-level-1);\n",
       "  border: var(--sklearn-color-unfitted-level-1) 1pt solid;\n",
       "}\n",
       "\n",
       "#sk-container-id-2 a.estimator_doc_link.fitted {\n",
       "  /* fitted */\n",
       "  border: var(--sklearn-color-fitted-level-1) 1pt solid;\n",
       "  color: var(--sklearn-color-fitted-level-1);\n",
       "}\n",
       "\n",
       "/* On hover */\n",
       "#sk-container-id-2 a.estimator_doc_link:hover {\n",
       "  /* unfitted */\n",
       "  background-color: var(--sklearn-color-unfitted-level-3);\n",
       "  color: var(--sklearn-color-background);\n",
       "  text-decoration: none;\n",
       "}\n",
       "\n",
       "#sk-container-id-2 a.estimator_doc_link.fitted:hover {\n",
       "  /* fitted */\n",
       "  background-color: var(--sklearn-color-fitted-level-3);\n",
       "}\n",
       "</style><div id=\"sk-container-id-2\" class=\"sk-top-container\"><div class=\"sk-text-repr-fallback\"><pre>Pipeline(steps=[(&#x27;preprocessor&#x27;,\n",
       "                 ColumnTransformer(transformers=[(&#x27;num&#x27;, StandardScaler(),\n",
       "                                                  [&#x27;beds&#x27;, &#x27;baths&#x27;, &#x27;sqft&#x27;,\n",
       "                                                   &#x27;lot_sqft&#x27;, &#x27;year_built&#x27;,\n",
       "                                                   &#x27;property_id&#x27;, &#x27;garages&#x27;]),\n",
       "                                                 (&#x27;cat&#x27;,\n",
       "                                                  OneHotEncoder(handle_unknown=&#x27;ignore&#x27;),\n",
       "                                                  [&#x27;city&#x27;])])),\n",
       "                (&#x27;model&#x27;,\n",
       "                 DecisionTreeRegressor(max_features=&#x27;sqrt&#x27;, random_state=42))])</pre><b>In a Jupyter environment, please rerun this cell to show the HTML representation or trust the notebook. <br />On GitHub, the HTML representation is unable to render, please try loading this page with nbviewer.org.</b></div><div class=\"sk-container\" hidden><div class=\"sk-item sk-dashed-wrapped\"><div class=\"sk-label-container\"><div class=\"sk-label fitted sk-toggleable\"><input class=\"sk-toggleable__control sk-hidden--visually\" id=\"sk-estimator-id-8\" type=\"checkbox\" ><label for=\"sk-estimator-id-8\" class=\"sk-toggleable__label fitted sk-toggleable__label-arrow fitted\">&nbsp;&nbsp;Pipeline<a class=\"sk-estimator-doc-link fitted\" rel=\"noreferrer\" target=\"_blank\" href=\"https://scikit-learn.org/1.5/modules/generated/sklearn.pipeline.Pipeline.html\">?<span>Documentation for Pipeline</span></a><span class=\"sk-estimator-doc-link fitted\">i<span>Fitted</span></span></label><div class=\"sk-toggleable__content fitted\"><pre>Pipeline(steps=[(&#x27;preprocessor&#x27;,\n",
       "                 ColumnTransformer(transformers=[(&#x27;num&#x27;, StandardScaler(),\n",
       "                                                  [&#x27;beds&#x27;, &#x27;baths&#x27;, &#x27;sqft&#x27;,\n",
       "                                                   &#x27;lot_sqft&#x27;, &#x27;year_built&#x27;,\n",
       "                                                   &#x27;property_id&#x27;, &#x27;garages&#x27;]),\n",
       "                                                 (&#x27;cat&#x27;,\n",
       "                                                  OneHotEncoder(handle_unknown=&#x27;ignore&#x27;),\n",
       "                                                  [&#x27;city&#x27;])])),\n",
       "                (&#x27;model&#x27;,\n",
       "                 DecisionTreeRegressor(max_features=&#x27;sqrt&#x27;, random_state=42))])</pre></div> </div></div><div class=\"sk-serial\"><div class=\"sk-item sk-dashed-wrapped\"><div class=\"sk-label-container\"><div class=\"sk-label fitted sk-toggleable\"><input class=\"sk-toggleable__control sk-hidden--visually\" id=\"sk-estimator-id-9\" type=\"checkbox\" ><label for=\"sk-estimator-id-9\" class=\"sk-toggleable__label fitted sk-toggleable__label-arrow fitted\">&nbsp;preprocessor: ColumnTransformer<a class=\"sk-estimator-doc-link fitted\" rel=\"noreferrer\" target=\"_blank\" href=\"https://scikit-learn.org/1.5/modules/generated/sklearn.compose.ColumnTransformer.html\">?<span>Documentation for preprocessor: ColumnTransformer</span></a></label><div class=\"sk-toggleable__content fitted\"><pre>ColumnTransformer(transformers=[(&#x27;num&#x27;, StandardScaler(),\n",
       "                                 [&#x27;beds&#x27;, &#x27;baths&#x27;, &#x27;sqft&#x27;, &#x27;lot_sqft&#x27;,\n",
       "                                  &#x27;year_built&#x27;, &#x27;property_id&#x27;, &#x27;garages&#x27;]),\n",
       "                                (&#x27;cat&#x27;, OneHotEncoder(handle_unknown=&#x27;ignore&#x27;),\n",
       "                                 [&#x27;city&#x27;])])</pre></div> </div></div><div class=\"sk-parallel\"><div class=\"sk-parallel-item\"><div class=\"sk-item\"><div class=\"sk-label-container\"><div class=\"sk-label fitted sk-toggleable\"><input class=\"sk-toggleable__control sk-hidden--visually\" id=\"sk-estimator-id-10\" type=\"checkbox\" ><label for=\"sk-estimator-id-10\" class=\"sk-toggleable__label fitted sk-toggleable__label-arrow fitted\">num</label><div class=\"sk-toggleable__content fitted\"><pre>[&#x27;beds&#x27;, &#x27;baths&#x27;, &#x27;sqft&#x27;, &#x27;lot_sqft&#x27;, &#x27;year_built&#x27;, &#x27;property_id&#x27;, &#x27;garages&#x27;]</pre></div> </div></div><div class=\"sk-serial\"><div class=\"sk-item\"><div class=\"sk-estimator fitted sk-toggleable\"><input class=\"sk-toggleable__control sk-hidden--visually\" id=\"sk-estimator-id-11\" type=\"checkbox\" ><label for=\"sk-estimator-id-11\" class=\"sk-toggleable__label fitted sk-toggleable__label-arrow fitted\">&nbsp;StandardScaler<a class=\"sk-estimator-doc-link fitted\" rel=\"noreferrer\" target=\"_blank\" href=\"https://scikit-learn.org/1.5/modules/generated/sklearn.preprocessing.StandardScaler.html\">?<span>Documentation for StandardScaler</span></a></label><div class=\"sk-toggleable__content fitted\"><pre>StandardScaler()</pre></div> </div></div></div></div></div><div class=\"sk-parallel-item\"><div class=\"sk-item\"><div class=\"sk-label-container\"><div class=\"sk-label fitted sk-toggleable\"><input class=\"sk-toggleable__control sk-hidden--visually\" id=\"sk-estimator-id-12\" type=\"checkbox\" ><label for=\"sk-estimator-id-12\" class=\"sk-toggleable__label fitted sk-toggleable__label-arrow fitted\">cat</label><div class=\"sk-toggleable__content fitted\"><pre>[&#x27;city&#x27;]</pre></div> </div></div><div class=\"sk-serial\"><div class=\"sk-item\"><div class=\"sk-estimator fitted sk-toggleable\"><input class=\"sk-toggleable__control sk-hidden--visually\" id=\"sk-estimator-id-13\" type=\"checkbox\" ><label for=\"sk-estimator-id-13\" class=\"sk-toggleable__label fitted sk-toggleable__label-arrow fitted\">&nbsp;OneHotEncoder<a class=\"sk-estimator-doc-link fitted\" rel=\"noreferrer\" target=\"_blank\" href=\"https://scikit-learn.org/1.5/modules/generated/sklearn.preprocessing.OneHotEncoder.html\">?<span>Documentation for OneHotEncoder</span></a></label><div class=\"sk-toggleable__content fitted\"><pre>OneHotEncoder(handle_unknown=&#x27;ignore&#x27;)</pre></div> </div></div></div></div></div></div></div><div class=\"sk-item\"><div class=\"sk-estimator fitted sk-toggleable\"><input class=\"sk-toggleable__control sk-hidden--visually\" id=\"sk-estimator-id-14\" type=\"checkbox\" ><label for=\"sk-estimator-id-14\" class=\"sk-toggleable__label fitted sk-toggleable__label-arrow fitted\">&nbsp;DecisionTreeRegressor<a class=\"sk-estimator-doc-link fitted\" rel=\"noreferrer\" target=\"_blank\" href=\"https://scikit-learn.org/1.5/modules/generated/sklearn.tree.DecisionTreeRegressor.html\">?<span>Documentation for DecisionTreeRegressor</span></a></label><div class=\"sk-toggleable__content fitted\"><pre>DecisionTreeRegressor(max_features=&#x27;sqrt&#x27;, random_state=42)</pre></div> </div></div></div></div></div></div>"
      ],
      "text/plain": [
       "Pipeline(steps=[('preprocessor',\n",
       "                 ColumnTransformer(transformers=[('num', StandardScaler(),\n",
       "                                                  ['beds', 'baths', 'sqft',\n",
       "                                                   'lot_sqft', 'year_built',\n",
       "                                                   'property_id', 'garages']),\n",
       "                                                 ('cat',\n",
       "                                                  OneHotEncoder(handle_unknown='ignore'),\n",
       "                                                  ['city'])])),\n",
       "                ('model',\n",
       "                 DecisionTreeRegressor(max_features='sqrt', random_state=42))])"
      ]
     },
     "execution_count": 87,
     "metadata": {},
     "output_type": "execute_result"
    }
   ],
   "source": [
    "# Define preprocessor\n",
    "preprocessor = ColumnTransformer(\n",
    "    transformers=[\n",
    "        ('num', StandardScaler(), numerical_features),\n",
    "        ('cat', OneHotEncoder(handle_unknown='ignore'), categorical_features)\n",
    "    ]\n",
    ")\n",
    "\n",
    "# Define pipeline\n",
    "pipeline = Pipeline(steps=[\n",
    "    ('preprocessor', preprocessor),\n",
    "    ('model', DecisionTreeRegressor(max_depth=None, \n",
    "                                    max_features='sqrt',\n",
    "                                    min_samples_leaf= 1, \n",
    "                                    min_samples_split=2, \n",
    "                                    random_state=42)) \n",
    "])\n",
    "\n",
    "# Use pipeline to fit and transform data\n",
    "pipeline.fit(X_train, Y_train)"
   ]
  },
  {
   "cell_type": "code",
   "execution_count": 89,
   "metadata": {},
   "outputs": [
    {
     "data": {
      "text/plain": [
       "['../models/final_pipeline.pkl']"
      ]
     },
     "execution_count": 89,
     "metadata": {},
     "output_type": "execute_result"
    }
   ],
   "source": [
    "#Save pipeline\n",
    "joblib.dump(pipeline, '../models/final_pipeline.pkl')"
   ]
  },
  {
   "cell_type": "code",
   "execution_count": 88,
   "metadata": {},
   "outputs": [
    {
     "name": "stdout",
     "output_type": "stream",
     "text": [
      "MSE: 1675692946.6067865\n",
      "MAE: 3342.864271457086\n",
      "R^2: 0.9847648069167247\n"
     ]
    }
   ],
   "source": [
    "predicitions = pipeline.predict(X_test)\n",
    "\n",
    "mse = mean_squared_error(Y_test, predicitions)\n",
    "mae = mean_absolute_error(Y_test, predicitions)\n",
    "r2 = r2_score(Y_test, predicitions)\n",
    "\n",
    "print(f\"MSE: {mse}\")\n",
    "print(f\"MAE: {mae}\")\n",
    "print(f\"R^2: {r2}\")"
   ]
  },
  {
   "cell_type": "markdown",
   "metadata": {},
   "source": [
    "This pipeline lead to good results as the MAE and MSE were small and the R2 was sufficiently high (98%). "
   ]
  },
  {
   "cell_type": "markdown",
   "metadata": {},
   "source": [
    "Pipelines come from sklearn.  When a pipeline is pickled, all of the information in the pipeline is stored with it.  For example, if we were deploying a model, and we had fit a scaler on the training data, we would want the same, already fitted scaling object to transform the new data with.  This is all stored when the pipeline is pickled.\n",
    "- save your final pipeline in your `models/` folder"
   ]
  },
  {
   "cell_type": "code",
   "execution_count": null,
   "metadata": {},
   "outputs": [],
   "source": [
    "#Previous pipeline with target encoding has 0.77 r2 score\n",
    "#This pipeline has 0.98 r2 score"
   ]
  }
 ],
 "metadata": {
  "kernelspec": {
   "display_name": "Python 3",
   "language": "python",
   "name": "python3"
  },
  "language_info": {
   "codemirror_mode": {
    "name": "ipython",
    "version": 3
   },
   "file_extension": ".py",
   "mimetype": "text/x-python",
   "name": "python",
   "nbconvert_exporter": "python",
   "pygments_lexer": "ipython3",
   "version": "3.12.3"
  }
 },
 "nbformat": 4,
 "nbformat_minor": 2
}
